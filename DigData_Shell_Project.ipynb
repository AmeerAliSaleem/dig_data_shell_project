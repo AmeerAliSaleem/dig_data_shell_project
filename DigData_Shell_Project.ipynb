{
  "nbformat": 4,
  "nbformat_minor": 0,
  "metadata": {
    "colab": {
      "provenance": []
    },
    "kernelspec": {
      "name": "python3",
      "display_name": "Python 3"
    },
    "language_info": {
      "name": "python"
    }
  },
  "cells": [
    {
      "cell_type": "markdown",
      "source": [
        "# Shell DigData Project Submission\n",
        "\n",
        "---\n",
        "\n",
        "\n",
        "## By Aadam Ul Haq and Ameer Ali Saleem\n",
        "\n",
        "A notebook detailing the coding portion of the Shell DigData Step Up Challenge."
      ],
      "metadata": {
        "id": "kRtcfvm10vke"
      }
    },
    {
      "cell_type": "markdown",
      "source": [
        "# Exploratory Data Analysis"
      ],
      "metadata": {
        "id": "D6GB_pQ30omC"
      }
    },
    {
      "cell_type": "markdown",
      "source": [
        "We begin by exploring the datasets in an attempt to spot patterns and deal with erroneous data values."
      ],
      "metadata": {
        "id": "gc6vlduQ10ub"
      }
    },
    {
      "cell_type": "code",
      "execution_count": 1,
      "metadata": {
        "id": "P_LCKK8m0IVP"
      },
      "outputs": [],
      "source": [
        "import numpy as np\n",
        "import pandas as pd\n",
        "import seaborn as sns"
      ]
    },
    {
      "cell_type": "code",
      "source": [
        "# importing datasets\n",
        "daily = pd.read_csv('daily.csv')\n",
        "hourly = pd.read_csv('hourly.csv')\n",
        "weekly = pd.read_csv('weekly.csv')\n",
        "monthly = pd.read_csv('monthly.csv')"
      ],
      "metadata": {
        "id": "ZPHpp8yn0j4X"
      },
      "execution_count": 2,
      "outputs": []
    },
    {
      "cell_type": "code",
      "source": [
        "hourly.info()"
      ],
      "metadata": {
        "colab": {
          "base_uri": "https://localhost:8080/"
        },
        "id": "ve4W_SUx8VXU",
        "outputId": "66ea6dda-f585-4322-8ec2-ae319fe45bef"
      },
      "execution_count": 3,
      "outputs": [
        {
          "output_type": "stream",
          "name": "stdout",
          "text": [
            "<class 'pandas.core.frame.DataFrame'>\n",
            "RangeIndex: 8760 entries, 0 to 8759\n",
            "Data columns (total 8 columns):\n",
            " #   Column                               Non-Null Count  Dtype  \n",
            "---  ------                               --------------  -----  \n",
            " 0   DateHour                             8760 non-null   object \n",
            " 1   Wind_Speed_Actual_Knots              8751 non-null   float64\n",
            " 2   Production_Actual_MWh                8760 non-null   float64\n",
            " 3   Production_Forecast_1hour_MWh        8760 non-null   float64\n",
            " 4   Production_Forecast_6hour_MWh        8760 non-null   float64\n",
            " 5   Production_24hour_MWh                8760 non-null   float64\n",
            " 6   Electricity_Prices_Day_Ahead_Dollar  8760 non-null   float64\n",
            " 7   Electricity_Prices_Spot_Dollar       8760 non-null   float64\n",
            "dtypes: float64(7), object(1)\n",
            "memory usage: 547.6+ KB\n"
          ]
        }
      ]
    },
    {
      "cell_type": "code",
      "source": [
        "hourly.describe()"
      ],
      "metadata": {
        "colab": {
          "base_uri": "https://localhost:8080/",
          "height": 364
        },
        "id": "CqVpgy9v8a-3",
        "outputId": "2caf1cb3-1684-4265-bfa6-96e4f0684bab"
      },
      "execution_count": 4,
      "outputs": [
        {
          "output_type": "execute_result",
          "data": {
            "text/plain": [
              "       Wind_Speed_Actual_Knots  Production_Actual_MWh  \\\n",
              "count              8751.000000            8760.000000   \n",
              "mean                 15.150708             219.800691   \n",
              "std                   9.704591             320.797377   \n",
              "min                  -0.360000              -0.001400   \n",
              "25%                   7.990000              16.328050   \n",
              "50%                  12.850000              68.025850   \n",
              "75%                  20.125000             262.959775   \n",
              "max                  65.620000            1100.000000   \n",
              "\n",
              "       Production_Forecast_1hour_MWh  Production_Forecast_6hour_MWh  \\\n",
              "count                    8760.000000                    8760.000000   \n",
              "mean                      207.072518                     201.079037   \n",
              "std                       310.996068                     305.458660   \n",
              "min                         0.002200                       0.020000   \n",
              "25%                        14.755025                      14.533400   \n",
              "50%                        61.688150                      58.839600   \n",
              "75%                       238.127150                     231.540450   \n",
              "max                      1100.000000                    1100.000000   \n",
              "\n",
              "       Production_24hour_MWh  Electricity_Prices_Day_Ahead_Dollar  \\\n",
              "count            8760.000000                          8760.000000   \n",
              "mean              191.862525                            95.375027   \n",
              "std               297.399502                            25.168086   \n",
              "min                 0.010900                           -11.400000   \n",
              "25%                14.766700                            78.655000   \n",
              "50%                55.213650                            93.655000   \n",
              "75%               211.982350                           110.755000   \n",
              "max              1100.000000                           317.590000   \n",
              "\n",
              "       Electricity_Prices_Spot_Dollar  \n",
              "count                     8760.000000  \n",
              "mean                        93.285188  \n",
              "std                         24.454762  \n",
              "min                        -10.890000  \n",
              "25%                         76.970000  \n",
              "50%                         91.515000  \n",
              "75%                        108.260000  \n",
              "max                        311.980000  "
            ],
            "text/html": [
              "\n",
              "  <div id=\"df-7b74486b-6af2-4ea6-bd10-b5bc46fdaf62\">\n",
              "    <div class=\"colab-df-container\">\n",
              "      <div>\n",
              "<style scoped>\n",
              "    .dataframe tbody tr th:only-of-type {\n",
              "        vertical-align: middle;\n",
              "    }\n",
              "\n",
              "    .dataframe tbody tr th {\n",
              "        vertical-align: top;\n",
              "    }\n",
              "\n",
              "    .dataframe thead th {\n",
              "        text-align: right;\n",
              "    }\n",
              "</style>\n",
              "<table border=\"1\" class=\"dataframe\">\n",
              "  <thead>\n",
              "    <tr style=\"text-align: right;\">\n",
              "      <th></th>\n",
              "      <th>Wind_Speed_Actual_Knots</th>\n",
              "      <th>Production_Actual_MWh</th>\n",
              "      <th>Production_Forecast_1hour_MWh</th>\n",
              "      <th>Production_Forecast_6hour_MWh</th>\n",
              "      <th>Production_24hour_MWh</th>\n",
              "      <th>Electricity_Prices_Day_Ahead_Dollar</th>\n",
              "      <th>Electricity_Prices_Spot_Dollar</th>\n",
              "    </tr>\n",
              "  </thead>\n",
              "  <tbody>\n",
              "    <tr>\n",
              "      <th>count</th>\n",
              "      <td>8751.000000</td>\n",
              "      <td>8760.000000</td>\n",
              "      <td>8760.000000</td>\n",
              "      <td>8760.000000</td>\n",
              "      <td>8760.000000</td>\n",
              "      <td>8760.000000</td>\n",
              "      <td>8760.000000</td>\n",
              "    </tr>\n",
              "    <tr>\n",
              "      <th>mean</th>\n",
              "      <td>15.150708</td>\n",
              "      <td>219.800691</td>\n",
              "      <td>207.072518</td>\n",
              "      <td>201.079037</td>\n",
              "      <td>191.862525</td>\n",
              "      <td>95.375027</td>\n",
              "      <td>93.285188</td>\n",
              "    </tr>\n",
              "    <tr>\n",
              "      <th>std</th>\n",
              "      <td>9.704591</td>\n",
              "      <td>320.797377</td>\n",
              "      <td>310.996068</td>\n",
              "      <td>305.458660</td>\n",
              "      <td>297.399502</td>\n",
              "      <td>25.168086</td>\n",
              "      <td>24.454762</td>\n",
              "    </tr>\n",
              "    <tr>\n",
              "      <th>min</th>\n",
              "      <td>-0.360000</td>\n",
              "      <td>-0.001400</td>\n",
              "      <td>0.002200</td>\n",
              "      <td>0.020000</td>\n",
              "      <td>0.010900</td>\n",
              "      <td>-11.400000</td>\n",
              "      <td>-10.890000</td>\n",
              "    </tr>\n",
              "    <tr>\n",
              "      <th>25%</th>\n",
              "      <td>7.990000</td>\n",
              "      <td>16.328050</td>\n",
              "      <td>14.755025</td>\n",
              "      <td>14.533400</td>\n",
              "      <td>14.766700</td>\n",
              "      <td>78.655000</td>\n",
              "      <td>76.970000</td>\n",
              "    </tr>\n",
              "    <tr>\n",
              "      <th>50%</th>\n",
              "      <td>12.850000</td>\n",
              "      <td>68.025850</td>\n",
              "      <td>61.688150</td>\n",
              "      <td>58.839600</td>\n",
              "      <td>55.213650</td>\n",
              "      <td>93.655000</td>\n",
              "      <td>91.515000</td>\n",
              "    </tr>\n",
              "    <tr>\n",
              "      <th>75%</th>\n",
              "      <td>20.125000</td>\n",
              "      <td>262.959775</td>\n",
              "      <td>238.127150</td>\n",
              "      <td>231.540450</td>\n",
              "      <td>211.982350</td>\n",
              "      <td>110.755000</td>\n",
              "      <td>108.260000</td>\n",
              "    </tr>\n",
              "    <tr>\n",
              "      <th>max</th>\n",
              "      <td>65.620000</td>\n",
              "      <td>1100.000000</td>\n",
              "      <td>1100.000000</td>\n",
              "      <td>1100.000000</td>\n",
              "      <td>1100.000000</td>\n",
              "      <td>317.590000</td>\n",
              "      <td>311.980000</td>\n",
              "    </tr>\n",
              "  </tbody>\n",
              "</table>\n",
              "</div>\n",
              "      <button class=\"colab-df-convert\" onclick=\"convertToInteractive('df-7b74486b-6af2-4ea6-bd10-b5bc46fdaf62')\"\n",
              "              title=\"Convert this dataframe to an interactive table.\"\n",
              "              style=\"display:none;\">\n",
              "        \n",
              "  <svg xmlns=\"http://www.w3.org/2000/svg\" height=\"24px\"viewBox=\"0 0 24 24\"\n",
              "       width=\"24px\">\n",
              "    <path d=\"M0 0h24v24H0V0z\" fill=\"none\"/>\n",
              "    <path d=\"M18.56 5.44l.94 2.06.94-2.06 2.06-.94-2.06-.94-.94-2.06-.94 2.06-2.06.94zm-11 1L8.5 8.5l.94-2.06 2.06-.94-2.06-.94L8.5 2.5l-.94 2.06-2.06.94zm10 10l.94 2.06.94-2.06 2.06-.94-2.06-.94-.94-2.06-.94 2.06-2.06.94z\"/><path d=\"M17.41 7.96l-1.37-1.37c-.4-.4-.92-.59-1.43-.59-.52 0-1.04.2-1.43.59L10.3 9.45l-7.72 7.72c-.78.78-.78 2.05 0 2.83L4 21.41c.39.39.9.59 1.41.59.51 0 1.02-.2 1.41-.59l7.78-7.78 2.81-2.81c.8-.78.8-2.07 0-2.86zM5.41 20L4 18.59l7.72-7.72 1.47 1.35L5.41 20z\"/>\n",
              "  </svg>\n",
              "      </button>\n",
              "      \n",
              "  <style>\n",
              "    .colab-df-container {\n",
              "      display:flex;\n",
              "      flex-wrap:wrap;\n",
              "      gap: 12px;\n",
              "    }\n",
              "\n",
              "    .colab-df-convert {\n",
              "      background-color: #E8F0FE;\n",
              "      border: none;\n",
              "      border-radius: 50%;\n",
              "      cursor: pointer;\n",
              "      display: none;\n",
              "      fill: #1967D2;\n",
              "      height: 32px;\n",
              "      padding: 0 0 0 0;\n",
              "      width: 32px;\n",
              "    }\n",
              "\n",
              "    .colab-df-convert:hover {\n",
              "      background-color: #E2EBFA;\n",
              "      box-shadow: 0px 1px 2px rgba(60, 64, 67, 0.3), 0px 1px 3px 1px rgba(60, 64, 67, 0.15);\n",
              "      fill: #174EA6;\n",
              "    }\n",
              "\n",
              "    [theme=dark] .colab-df-convert {\n",
              "      background-color: #3B4455;\n",
              "      fill: #D2E3FC;\n",
              "    }\n",
              "\n",
              "    [theme=dark] .colab-df-convert:hover {\n",
              "      background-color: #434B5C;\n",
              "      box-shadow: 0px 1px 3px 1px rgba(0, 0, 0, 0.15);\n",
              "      filter: drop-shadow(0px 1px 2px rgba(0, 0, 0, 0.3));\n",
              "      fill: #FFFFFF;\n",
              "    }\n",
              "  </style>\n",
              "\n",
              "      <script>\n",
              "        const buttonEl =\n",
              "          document.querySelector('#df-7b74486b-6af2-4ea6-bd10-b5bc46fdaf62 button.colab-df-convert');\n",
              "        buttonEl.style.display =\n",
              "          google.colab.kernel.accessAllowed ? 'block' : 'none';\n",
              "\n",
              "        async function convertToInteractive(key) {\n",
              "          const element = document.querySelector('#df-7b74486b-6af2-4ea6-bd10-b5bc46fdaf62');\n",
              "          const dataTable =\n",
              "            await google.colab.kernel.invokeFunction('convertToInteractive',\n",
              "                                                     [key], {});\n",
              "          if (!dataTable) return;\n",
              "\n",
              "          const docLinkHtml = 'Like what you see? Visit the ' +\n",
              "            '<a target=\"_blank\" href=https://colab.research.google.com/notebooks/data_table.ipynb>data table notebook</a>'\n",
              "            + ' to learn more about interactive tables.';\n",
              "          element.innerHTML = '';\n",
              "          dataTable['output_type'] = 'display_data';\n",
              "          await google.colab.output.renderOutput(dataTable, element);\n",
              "          const docLink = document.createElement('div');\n",
              "          docLink.innerHTML = docLinkHtml;\n",
              "          element.appendChild(docLink);\n",
              "        }\n",
              "      </script>\n",
              "    </div>\n",
              "  </div>\n",
              "  "
            ]
          },
          "metadata": {},
          "execution_count": 4
        }
      ]
    },
    {
      "cell_type": "code",
      "source": [
        "# should not have negative values for any of the columns!\n",
        "\n",
        "hourly_numeric_cols = hourly.select_dtypes(include=np.number)\n",
        "hourly[(hourly[hourly_numeric_cols.columns] > 0).all(1)]"
      ],
      "metadata": {
        "colab": {
          "base_uri": "https://localhost:8080/",
          "height": 661
        },
        "id": "V-POTosh8ljX",
        "outputId": "a272c66b-6fec-4328-a005-5541b0e06085"
      },
      "execution_count": 5,
      "outputs": [
        {
          "output_type": "execute_result",
          "data": {
            "text/plain": [
              "              DateHour  Wind_Speed_Actual_Knots  Production_Actual_MWh  \\\n",
              "0     01/01/2022 00:00                    10.34                35.3697   \n",
              "1     01/01/2022 01:00                     9.52                27.5898   \n",
              "2     01/01/2022 02:00                     6.31                 8.0303   \n",
              "3     01/01/2022 03:00                     7.38                12.8577   \n",
              "4     01/01/2022 04:00                     7.03                11.1329   \n",
              "...                ...                      ...                    ...   \n",
              "8755  31/12/2022 19:00                    19.32               230.6487   \n",
              "8756  31/12/2022 20:00                    21.41               313.8503   \n",
              "8757  31/12/2022 21:00                    24.49               469.9885   \n",
              "8758  31/12/2022 22:00                    26.22               576.7006   \n",
              "8759  31/12/2022 23:00                    22.50               364.4457   \n",
              "\n",
              "      Production_Forecast_1hour_MWh  Production_Forecast_6hour_MWh  \\\n",
              "0                           30.2627                        19.3683   \n",
              "1                           24.9854                        19.2894   \n",
              "2                           13.5787                        18.6246   \n",
              "3                           13.8099                        17.0159   \n",
              "4                           10.5426                        13.9052   \n",
              "...                             ...                            ...   \n",
              "8755                       351.0614                       368.7158   \n",
              "8756                       353.9471                       397.6853   \n",
              "8757                       328.6710                       456.5035   \n",
              "8758                       444.4528                       444.3124   \n",
              "8759                       412.6734                       371.4594   \n",
              "\n",
              "      Production_24hour_MWh  Electricity_Prices_Day_Ahead_Dollar  \\\n",
              "0                   11.2438                               133.00   \n",
              "1                    6.7481                               138.45   \n",
              "2                   10.6262                               107.54   \n",
              "3                   10.6262                               105.54   \n",
              "4                   12.3877                               107.69   \n",
              "...                     ...                                  ...   \n",
              "8755               430.8759                                84.08   \n",
              "8756               469.8260                                79.62   \n",
              "8757               536.3732                                89.78   \n",
              "8758               594.8571                                78.61   \n",
              "8759               460.5549                                77.27   \n",
              "\n",
              "      Electricity_Prices_Spot_Dollar  \n",
              "0                             131.98  \n",
              "1                             138.43  \n",
              "2                             105.02  \n",
              "3                             104.18  \n",
              "4                             108.36  \n",
              "...                              ...  \n",
              "8755                           84.31  \n",
              "8756                           80.74  \n",
              "8757                           89.57  \n",
              "8758                           77.90  \n",
              "8759                           76.78  \n",
              "\n",
              "[8737 rows x 8 columns]"
            ],
            "text/html": [
              "\n",
              "  <div id=\"df-cbcc080d-ae34-4897-9e7b-a99ead5fdefc\">\n",
              "    <div class=\"colab-df-container\">\n",
              "      <div>\n",
              "<style scoped>\n",
              "    .dataframe tbody tr th:only-of-type {\n",
              "        vertical-align: middle;\n",
              "    }\n",
              "\n",
              "    .dataframe tbody tr th {\n",
              "        vertical-align: top;\n",
              "    }\n",
              "\n",
              "    .dataframe thead th {\n",
              "        text-align: right;\n",
              "    }\n",
              "</style>\n",
              "<table border=\"1\" class=\"dataframe\">\n",
              "  <thead>\n",
              "    <tr style=\"text-align: right;\">\n",
              "      <th></th>\n",
              "      <th>DateHour</th>\n",
              "      <th>Wind_Speed_Actual_Knots</th>\n",
              "      <th>Production_Actual_MWh</th>\n",
              "      <th>Production_Forecast_1hour_MWh</th>\n",
              "      <th>Production_Forecast_6hour_MWh</th>\n",
              "      <th>Production_24hour_MWh</th>\n",
              "      <th>Electricity_Prices_Day_Ahead_Dollar</th>\n",
              "      <th>Electricity_Prices_Spot_Dollar</th>\n",
              "    </tr>\n",
              "  </thead>\n",
              "  <tbody>\n",
              "    <tr>\n",
              "      <th>0</th>\n",
              "      <td>01/01/2022 00:00</td>\n",
              "      <td>10.34</td>\n",
              "      <td>35.3697</td>\n",
              "      <td>30.2627</td>\n",
              "      <td>19.3683</td>\n",
              "      <td>11.2438</td>\n",
              "      <td>133.00</td>\n",
              "      <td>131.98</td>\n",
              "    </tr>\n",
              "    <tr>\n",
              "      <th>1</th>\n",
              "      <td>01/01/2022 01:00</td>\n",
              "      <td>9.52</td>\n",
              "      <td>27.5898</td>\n",
              "      <td>24.9854</td>\n",
              "      <td>19.2894</td>\n",
              "      <td>6.7481</td>\n",
              "      <td>138.45</td>\n",
              "      <td>138.43</td>\n",
              "    </tr>\n",
              "    <tr>\n",
              "      <th>2</th>\n",
              "      <td>01/01/2022 02:00</td>\n",
              "      <td>6.31</td>\n",
              "      <td>8.0303</td>\n",
              "      <td>13.5787</td>\n",
              "      <td>18.6246</td>\n",
              "      <td>10.6262</td>\n",
              "      <td>107.54</td>\n",
              "      <td>105.02</td>\n",
              "    </tr>\n",
              "    <tr>\n",
              "      <th>3</th>\n",
              "      <td>01/01/2022 03:00</td>\n",
              "      <td>7.38</td>\n",
              "      <td>12.8577</td>\n",
              "      <td>13.8099</td>\n",
              "      <td>17.0159</td>\n",
              "      <td>10.6262</td>\n",
              "      <td>105.54</td>\n",
              "      <td>104.18</td>\n",
              "    </tr>\n",
              "    <tr>\n",
              "      <th>4</th>\n",
              "      <td>01/01/2022 04:00</td>\n",
              "      <td>7.03</td>\n",
              "      <td>11.1329</td>\n",
              "      <td>10.5426</td>\n",
              "      <td>13.9052</td>\n",
              "      <td>12.3877</td>\n",
              "      <td>107.69</td>\n",
              "      <td>108.36</td>\n",
              "    </tr>\n",
              "    <tr>\n",
              "      <th>...</th>\n",
              "      <td>...</td>\n",
              "      <td>...</td>\n",
              "      <td>...</td>\n",
              "      <td>...</td>\n",
              "      <td>...</td>\n",
              "      <td>...</td>\n",
              "      <td>...</td>\n",
              "      <td>...</td>\n",
              "    </tr>\n",
              "    <tr>\n",
              "      <th>8755</th>\n",
              "      <td>31/12/2022 19:00</td>\n",
              "      <td>19.32</td>\n",
              "      <td>230.6487</td>\n",
              "      <td>351.0614</td>\n",
              "      <td>368.7158</td>\n",
              "      <td>430.8759</td>\n",
              "      <td>84.08</td>\n",
              "      <td>84.31</td>\n",
              "    </tr>\n",
              "    <tr>\n",
              "      <th>8756</th>\n",
              "      <td>31/12/2022 20:00</td>\n",
              "      <td>21.41</td>\n",
              "      <td>313.8503</td>\n",
              "      <td>353.9471</td>\n",
              "      <td>397.6853</td>\n",
              "      <td>469.8260</td>\n",
              "      <td>79.62</td>\n",
              "      <td>80.74</td>\n",
              "    </tr>\n",
              "    <tr>\n",
              "      <th>8757</th>\n",
              "      <td>31/12/2022 21:00</td>\n",
              "      <td>24.49</td>\n",
              "      <td>469.9885</td>\n",
              "      <td>328.6710</td>\n",
              "      <td>456.5035</td>\n",
              "      <td>536.3732</td>\n",
              "      <td>89.78</td>\n",
              "      <td>89.57</td>\n",
              "    </tr>\n",
              "    <tr>\n",
              "      <th>8758</th>\n",
              "      <td>31/12/2022 22:00</td>\n",
              "      <td>26.22</td>\n",
              "      <td>576.7006</td>\n",
              "      <td>444.4528</td>\n",
              "      <td>444.3124</td>\n",
              "      <td>594.8571</td>\n",
              "      <td>78.61</td>\n",
              "      <td>77.90</td>\n",
              "    </tr>\n",
              "    <tr>\n",
              "      <th>8759</th>\n",
              "      <td>31/12/2022 23:00</td>\n",
              "      <td>22.50</td>\n",
              "      <td>364.4457</td>\n",
              "      <td>412.6734</td>\n",
              "      <td>371.4594</td>\n",
              "      <td>460.5549</td>\n",
              "      <td>77.27</td>\n",
              "      <td>76.78</td>\n",
              "    </tr>\n",
              "  </tbody>\n",
              "</table>\n",
              "<p>8737 rows × 8 columns</p>\n",
              "</div>\n",
              "      <button class=\"colab-df-convert\" onclick=\"convertToInteractive('df-cbcc080d-ae34-4897-9e7b-a99ead5fdefc')\"\n",
              "              title=\"Convert this dataframe to an interactive table.\"\n",
              "              style=\"display:none;\">\n",
              "        \n",
              "  <svg xmlns=\"http://www.w3.org/2000/svg\" height=\"24px\"viewBox=\"0 0 24 24\"\n",
              "       width=\"24px\">\n",
              "    <path d=\"M0 0h24v24H0V0z\" fill=\"none\"/>\n",
              "    <path d=\"M18.56 5.44l.94 2.06.94-2.06 2.06-.94-2.06-.94-.94-2.06-.94 2.06-2.06.94zm-11 1L8.5 8.5l.94-2.06 2.06-.94-2.06-.94L8.5 2.5l-.94 2.06-2.06.94zm10 10l.94 2.06.94-2.06 2.06-.94-2.06-.94-.94-2.06-.94 2.06-2.06.94z\"/><path d=\"M17.41 7.96l-1.37-1.37c-.4-.4-.92-.59-1.43-.59-.52 0-1.04.2-1.43.59L10.3 9.45l-7.72 7.72c-.78.78-.78 2.05 0 2.83L4 21.41c.39.39.9.59 1.41.59.51 0 1.02-.2 1.41-.59l7.78-7.78 2.81-2.81c.8-.78.8-2.07 0-2.86zM5.41 20L4 18.59l7.72-7.72 1.47 1.35L5.41 20z\"/>\n",
              "  </svg>\n",
              "      </button>\n",
              "      \n",
              "  <style>\n",
              "    .colab-df-container {\n",
              "      display:flex;\n",
              "      flex-wrap:wrap;\n",
              "      gap: 12px;\n",
              "    }\n",
              "\n",
              "    .colab-df-convert {\n",
              "      background-color: #E8F0FE;\n",
              "      border: none;\n",
              "      border-radius: 50%;\n",
              "      cursor: pointer;\n",
              "      display: none;\n",
              "      fill: #1967D2;\n",
              "      height: 32px;\n",
              "      padding: 0 0 0 0;\n",
              "      width: 32px;\n",
              "    }\n",
              "\n",
              "    .colab-df-convert:hover {\n",
              "      background-color: #E2EBFA;\n",
              "      box-shadow: 0px 1px 2px rgba(60, 64, 67, 0.3), 0px 1px 3px 1px rgba(60, 64, 67, 0.15);\n",
              "      fill: #174EA6;\n",
              "    }\n",
              "\n",
              "    [theme=dark] .colab-df-convert {\n",
              "      background-color: #3B4455;\n",
              "      fill: #D2E3FC;\n",
              "    }\n",
              "\n",
              "    [theme=dark] .colab-df-convert:hover {\n",
              "      background-color: #434B5C;\n",
              "      box-shadow: 0px 1px 3px 1px rgba(0, 0, 0, 0.15);\n",
              "      filter: drop-shadow(0px 1px 2px rgba(0, 0, 0, 0.3));\n",
              "      fill: #FFFFFF;\n",
              "    }\n",
              "  </style>\n",
              "\n",
              "      <script>\n",
              "        const buttonEl =\n",
              "          document.querySelector('#df-cbcc080d-ae34-4897-9e7b-a99ead5fdefc button.colab-df-convert');\n",
              "        buttonEl.style.display =\n",
              "          google.colab.kernel.accessAllowed ? 'block' : 'none';\n",
              "\n",
              "        async function convertToInteractive(key) {\n",
              "          const element = document.querySelector('#df-cbcc080d-ae34-4897-9e7b-a99ead5fdefc');\n",
              "          const dataTable =\n",
              "            await google.colab.kernel.invokeFunction('convertToInteractive',\n",
              "                                                     [key], {});\n",
              "          if (!dataTable) return;\n",
              "\n",
              "          const docLinkHtml = 'Like what you see? Visit the ' +\n",
              "            '<a target=\"_blank\" href=https://colab.research.google.com/notebooks/data_table.ipynb>data table notebook</a>'\n",
              "            + ' to learn more about interactive tables.';\n",
              "          element.innerHTML = '';\n",
              "          dataTable['output_type'] = 'display_data';\n",
              "          await google.colab.output.renderOutput(dataTable, element);\n",
              "          const docLink = document.createElement('div');\n",
              "          docLink.innerHTML = docLinkHtml;\n",
              "          element.appendChild(docLink);\n",
              "        }\n",
              "      </script>\n",
              "    </div>\n",
              "  </div>\n",
              "  "
            ]
          },
          "metadata": {},
          "execution_count": 5
        }
      ]
    },
    {
      "cell_type": "code",
      "source": [
        "# remove negative values from DataFrame for now\n",
        "hourly = hourly[(hourly[hourly_numeric_cols.columns] > 0).all(1)]"
      ],
      "metadata": {
        "id": "PCLCdEWa-h9N"
      },
      "execution_count": 6,
      "outputs": []
    },
    {
      "cell_type": "code",
      "source": [
        "hourly.head()"
      ],
      "metadata": {
        "id": "2dY1Q_Yy1R7U",
        "colab": {
          "base_uri": "https://localhost:8080/",
          "height": 357
        },
        "outputId": "142be3c6-15e7-48ad-f458-995ef691d285"
      },
      "execution_count": 7,
      "outputs": [
        {
          "output_type": "execute_result",
          "data": {
            "text/plain": [
              "           DateHour  Wind_Speed_Actual_Knots  Production_Actual_MWh  \\\n",
              "0  01/01/2022 00:00                    10.34                35.3697   \n",
              "1  01/01/2022 01:00                     9.52                27.5898   \n",
              "2  01/01/2022 02:00                     6.31                 8.0303   \n",
              "3  01/01/2022 03:00                     7.38                12.8577   \n",
              "4  01/01/2022 04:00                     7.03                11.1329   \n",
              "\n",
              "   Production_Forecast_1hour_MWh  Production_Forecast_6hour_MWh  \\\n",
              "0                        30.2627                        19.3683   \n",
              "1                        24.9854                        19.2894   \n",
              "2                        13.5787                        18.6246   \n",
              "3                        13.8099                        17.0159   \n",
              "4                        10.5426                        13.9052   \n",
              "\n",
              "   Production_24hour_MWh  Electricity_Prices_Day_Ahead_Dollar  \\\n",
              "0                11.2438                               133.00   \n",
              "1                 6.7481                               138.45   \n",
              "2                10.6262                               107.54   \n",
              "3                10.6262                               105.54   \n",
              "4                12.3877                               107.69   \n",
              "\n",
              "   Electricity_Prices_Spot_Dollar  \n",
              "0                          131.98  \n",
              "1                          138.43  \n",
              "2                          105.02  \n",
              "3                          104.18  \n",
              "4                          108.36  "
            ],
            "text/html": [
              "\n",
              "  <div id=\"df-a2fe7ed4-5db7-4579-99b5-be98759019e0\">\n",
              "    <div class=\"colab-df-container\">\n",
              "      <div>\n",
              "<style scoped>\n",
              "    .dataframe tbody tr th:only-of-type {\n",
              "        vertical-align: middle;\n",
              "    }\n",
              "\n",
              "    .dataframe tbody tr th {\n",
              "        vertical-align: top;\n",
              "    }\n",
              "\n",
              "    .dataframe thead th {\n",
              "        text-align: right;\n",
              "    }\n",
              "</style>\n",
              "<table border=\"1\" class=\"dataframe\">\n",
              "  <thead>\n",
              "    <tr style=\"text-align: right;\">\n",
              "      <th></th>\n",
              "      <th>DateHour</th>\n",
              "      <th>Wind_Speed_Actual_Knots</th>\n",
              "      <th>Production_Actual_MWh</th>\n",
              "      <th>Production_Forecast_1hour_MWh</th>\n",
              "      <th>Production_Forecast_6hour_MWh</th>\n",
              "      <th>Production_24hour_MWh</th>\n",
              "      <th>Electricity_Prices_Day_Ahead_Dollar</th>\n",
              "      <th>Electricity_Prices_Spot_Dollar</th>\n",
              "    </tr>\n",
              "  </thead>\n",
              "  <tbody>\n",
              "    <tr>\n",
              "      <th>0</th>\n",
              "      <td>01/01/2022 00:00</td>\n",
              "      <td>10.34</td>\n",
              "      <td>35.3697</td>\n",
              "      <td>30.2627</td>\n",
              "      <td>19.3683</td>\n",
              "      <td>11.2438</td>\n",
              "      <td>133.00</td>\n",
              "      <td>131.98</td>\n",
              "    </tr>\n",
              "    <tr>\n",
              "      <th>1</th>\n",
              "      <td>01/01/2022 01:00</td>\n",
              "      <td>9.52</td>\n",
              "      <td>27.5898</td>\n",
              "      <td>24.9854</td>\n",
              "      <td>19.2894</td>\n",
              "      <td>6.7481</td>\n",
              "      <td>138.45</td>\n",
              "      <td>138.43</td>\n",
              "    </tr>\n",
              "    <tr>\n",
              "      <th>2</th>\n",
              "      <td>01/01/2022 02:00</td>\n",
              "      <td>6.31</td>\n",
              "      <td>8.0303</td>\n",
              "      <td>13.5787</td>\n",
              "      <td>18.6246</td>\n",
              "      <td>10.6262</td>\n",
              "      <td>107.54</td>\n",
              "      <td>105.02</td>\n",
              "    </tr>\n",
              "    <tr>\n",
              "      <th>3</th>\n",
              "      <td>01/01/2022 03:00</td>\n",
              "      <td>7.38</td>\n",
              "      <td>12.8577</td>\n",
              "      <td>13.8099</td>\n",
              "      <td>17.0159</td>\n",
              "      <td>10.6262</td>\n",
              "      <td>105.54</td>\n",
              "      <td>104.18</td>\n",
              "    </tr>\n",
              "    <tr>\n",
              "      <th>4</th>\n",
              "      <td>01/01/2022 04:00</td>\n",
              "      <td>7.03</td>\n",
              "      <td>11.1329</td>\n",
              "      <td>10.5426</td>\n",
              "      <td>13.9052</td>\n",
              "      <td>12.3877</td>\n",
              "      <td>107.69</td>\n",
              "      <td>108.36</td>\n",
              "    </tr>\n",
              "  </tbody>\n",
              "</table>\n",
              "</div>\n",
              "      <button class=\"colab-df-convert\" onclick=\"convertToInteractive('df-a2fe7ed4-5db7-4579-99b5-be98759019e0')\"\n",
              "              title=\"Convert this dataframe to an interactive table.\"\n",
              "              style=\"display:none;\">\n",
              "        \n",
              "  <svg xmlns=\"http://www.w3.org/2000/svg\" height=\"24px\"viewBox=\"0 0 24 24\"\n",
              "       width=\"24px\">\n",
              "    <path d=\"M0 0h24v24H0V0z\" fill=\"none\"/>\n",
              "    <path d=\"M18.56 5.44l.94 2.06.94-2.06 2.06-.94-2.06-.94-.94-2.06-.94 2.06-2.06.94zm-11 1L8.5 8.5l.94-2.06 2.06-.94-2.06-.94L8.5 2.5l-.94 2.06-2.06.94zm10 10l.94 2.06.94-2.06 2.06-.94-2.06-.94-.94-2.06-.94 2.06-2.06.94z\"/><path d=\"M17.41 7.96l-1.37-1.37c-.4-.4-.92-.59-1.43-.59-.52 0-1.04.2-1.43.59L10.3 9.45l-7.72 7.72c-.78.78-.78 2.05 0 2.83L4 21.41c.39.39.9.59 1.41.59.51 0 1.02-.2 1.41-.59l7.78-7.78 2.81-2.81c.8-.78.8-2.07 0-2.86zM5.41 20L4 18.59l7.72-7.72 1.47 1.35L5.41 20z\"/>\n",
              "  </svg>\n",
              "      </button>\n",
              "      \n",
              "  <style>\n",
              "    .colab-df-container {\n",
              "      display:flex;\n",
              "      flex-wrap:wrap;\n",
              "      gap: 12px;\n",
              "    }\n",
              "\n",
              "    .colab-df-convert {\n",
              "      background-color: #E8F0FE;\n",
              "      border: none;\n",
              "      border-radius: 50%;\n",
              "      cursor: pointer;\n",
              "      display: none;\n",
              "      fill: #1967D2;\n",
              "      height: 32px;\n",
              "      padding: 0 0 0 0;\n",
              "      width: 32px;\n",
              "    }\n",
              "\n",
              "    .colab-df-convert:hover {\n",
              "      background-color: #E2EBFA;\n",
              "      box-shadow: 0px 1px 2px rgba(60, 64, 67, 0.3), 0px 1px 3px 1px rgba(60, 64, 67, 0.15);\n",
              "      fill: #174EA6;\n",
              "    }\n",
              "\n",
              "    [theme=dark] .colab-df-convert {\n",
              "      background-color: #3B4455;\n",
              "      fill: #D2E3FC;\n",
              "    }\n",
              "\n",
              "    [theme=dark] .colab-df-convert:hover {\n",
              "      background-color: #434B5C;\n",
              "      box-shadow: 0px 1px 3px 1px rgba(0, 0, 0, 0.15);\n",
              "      filter: drop-shadow(0px 1px 2px rgba(0, 0, 0, 0.3));\n",
              "      fill: #FFFFFF;\n",
              "    }\n",
              "  </style>\n",
              "\n",
              "      <script>\n",
              "        const buttonEl =\n",
              "          document.querySelector('#df-a2fe7ed4-5db7-4579-99b5-be98759019e0 button.colab-df-convert');\n",
              "        buttonEl.style.display =\n",
              "          google.colab.kernel.accessAllowed ? 'block' : 'none';\n",
              "\n",
              "        async function convertToInteractive(key) {\n",
              "          const element = document.querySelector('#df-a2fe7ed4-5db7-4579-99b5-be98759019e0');\n",
              "          const dataTable =\n",
              "            await google.colab.kernel.invokeFunction('convertToInteractive',\n",
              "                                                     [key], {});\n",
              "          if (!dataTable) return;\n",
              "\n",
              "          const docLinkHtml = 'Like what you see? Visit the ' +\n",
              "            '<a target=\"_blank\" href=https://colab.research.google.com/notebooks/data_table.ipynb>data table notebook</a>'\n",
              "            + ' to learn more about interactive tables.';\n",
              "          element.innerHTML = '';\n",
              "          dataTable['output_type'] = 'display_data';\n",
              "          await google.colab.output.renderOutput(dataTable, element);\n",
              "          const docLink = document.createElement('div');\n",
              "          docLink.innerHTML = docLinkHtml;\n",
              "          element.appendChild(docLink);\n",
              "        }\n",
              "      </script>\n",
              "    </div>\n",
              "  </div>\n",
              "  "
            ]
          },
          "metadata": {},
          "execution_count": 7
        }
      ]
    },
    {
      "cell_type": "code",
      "source": [
        "hourly.count()"
      ],
      "metadata": {
        "colab": {
          "base_uri": "https://localhost:8080/"
        },
        "id": "qFBrdajW2u8E",
        "outputId": "59129382-05d8-451e-efde-6ef5dc985147"
      },
      "execution_count": 8,
      "outputs": [
        {
          "output_type": "execute_result",
          "data": {
            "text/plain": [
              "DateHour                               8737\n",
              "Wind_Speed_Actual_Knots                8737\n",
              "Production_Actual_MWh                  8737\n",
              "Production_Forecast_1hour_MWh          8737\n",
              "Production_Forecast_6hour_MWh          8737\n",
              "Production_24hour_MWh                  8737\n",
              "Electricity_Prices_Day_Ahead_Dollar    8737\n",
              "Electricity_Prices_Spot_Dollar         8737\n",
              "dtype: int64"
            ]
          },
          "metadata": {},
          "execution_count": 8
        }
      ]
    },
    {
      "cell_type": "code",
      "source": [
        "sns.boxplot(x=hourly.iloc[:,1])"
      ],
      "metadata": {
        "colab": {
          "base_uri": "https://localhost:8080/",
          "height": 297
        },
        "id": "TWE2s2vf3MeQ",
        "outputId": "5371a777-af4c-4b67-ad84-ffa656a0c36b"
      },
      "execution_count": 9,
      "outputs": [
        {
          "output_type": "execute_result",
          "data": {
            "text/plain": [
              "<AxesSubplot:xlabel='Wind_Speed_Actual_Knots'>"
            ]
          },
          "metadata": {},
          "execution_count": 9
        },
        {
          "output_type": "display_data",
          "data": {
            "text/plain": [
              "<Figure size 432x288 with 1 Axes>"
            ],
            "image/png": "[encoded data removed]"
          },
          "metadata": {
            "needs_background": "light"
          }
        }
      ]
    },
    {
      "cell_type": "code",
      "source": [
        "daily.head()"
      ],
      "metadata": {
        "colab": {
          "base_uri": "https://localhost:8080/",
          "height": 206
        },
        "id": "L9P2jrJv3yXj",
        "outputId": "f3a20b30-58a4-4689-d13a-4b153a098e53"
      },
      "execution_count": 10,
      "outputs": [
        {
          "output_type": "execute_result",
          "data": {
            "text/plain": [
              "         Date  Hydrogen_Demand_Actual_KG  Hydrogen_Demand_Forecast_KG\n",
              "0  01/01/2022                      17516                        17925\n",
              "1  02/01/2022                      17578                        17430\n",
              "2  03/01/2022                      16044                        16407\n",
              "3  04/01/2022                      17471                        17890\n",
              "4  05/01/2022                      17835                        18080"
            ],
            "text/html": [
              "\n",
              "  <div id=\"df-9fa0bd38-b78b-42c9-b967-3849d3fabeab\">\n",
              "    <div class=\"colab-df-container\">\n",
              "      <div>\n",
              "<style scoped>\n",
              "    .dataframe tbody tr th:only-of-type {\n",
              "        vertical-align: middle;\n",
              "    }\n",
              "\n",
              "    .dataframe tbody tr th {\n",
              "        vertical-align: top;\n",
              "    }\n",
              "\n",
              "    .dataframe thead th {\n",
              "        text-align: right;\n",
              "    }\n",
              "</style>\n",
              "<table border=\"1\" class=\"dataframe\">\n",
              "  <thead>\n",
              "    <tr style=\"text-align: right;\">\n",
              "      <th></th>\n",
              "      <th>Date</th>\n",
              "      <th>Hydrogen_Demand_Actual_KG</th>\n",
              "      <th>Hydrogen_Demand_Forecast_KG</th>\n",
              "    </tr>\n",
              "  </thead>\n",
              "  <tbody>\n",
              "    <tr>\n",
              "      <th>0</th>\n",
              "      <td>01/01/2022</td>\n",
              "      <td>17516</td>\n",
              "      <td>17925</td>\n",
              "    </tr>\n",
              "    <tr>\n",
              "      <th>1</th>\n",
              "      <td>02/01/2022</td>\n",
              "      <td>17578</td>\n",
              "      <td>17430</td>\n",
              "    </tr>\n",
              "    <tr>\n",
              "      <th>2</th>\n",
              "      <td>03/01/2022</td>\n",
              "      <td>16044</td>\n",
              "      <td>16407</td>\n",
              "    </tr>\n",
              "    <tr>\n",
              "      <th>3</th>\n",
              "      <td>04/01/2022</td>\n",
              "      <td>17471</td>\n",
              "      <td>17890</td>\n",
              "    </tr>\n",
              "    <tr>\n",
              "      <th>4</th>\n",
              "      <td>05/01/2022</td>\n",
              "      <td>17835</td>\n",
              "      <td>18080</td>\n",
              "    </tr>\n",
              "  </tbody>\n",
              "</table>\n",
              "</div>\n",
              "      <button class=\"colab-df-convert\" onclick=\"convertToInteractive('df-9fa0bd38-b78b-42c9-b967-3849d3fabeab')\"\n",
              "              title=\"Convert this dataframe to an interactive table.\"\n",
              "              style=\"display:none;\">\n",
              "        \n",
              "  <svg xmlns=\"http://www.w3.org/2000/svg\" height=\"24px\"viewBox=\"0 0 24 24\"\n",
              "       width=\"24px\">\n",
              "    <path d=\"M0 0h24v24H0V0z\" fill=\"none\"/>\n",
              "    <path d=\"M18.56 5.44l.94 2.06.94-2.06 2.06-.94-2.06-.94-.94-2.06-.94 2.06-2.06.94zm-11 1L8.5 8.5l.94-2.06 2.06-.94-2.06-.94L8.5 2.5l-.94 2.06-2.06.94zm10 10l.94 2.06.94-2.06 2.06-.94-2.06-.94-.94-2.06-.94 2.06-2.06.94z\"/><path d=\"M17.41 7.96l-1.37-1.37c-.4-.4-.92-.59-1.43-.59-.52 0-1.04.2-1.43.59L10.3 9.45l-7.72 7.72c-.78.78-.78 2.05 0 2.83L4 21.41c.39.39.9.59 1.41.59.51 0 1.02-.2 1.41-.59l7.78-7.78 2.81-2.81c.8-.78.8-2.07 0-2.86zM5.41 20L4 18.59l7.72-7.72 1.47 1.35L5.41 20z\"/>\n",
              "  </svg>\n",
              "      </button>\n",
              "      \n",
              "  <style>\n",
              "    .colab-df-container {\n",
              "      display:flex;\n",
              "      flex-wrap:wrap;\n",
              "      gap: 12px;\n",
              "    }\n",
              "\n",
              "    .colab-df-convert {\n",
              "      background-color: #E8F0FE;\n",
              "      border: none;\n",
              "      border-radius: 50%;\n",
              "      cursor: pointer;\n",
              "      display: none;\n",
              "      fill: #1967D2;\n",
              "      height: 32px;\n",
              "      padding: 0 0 0 0;\n",
              "      width: 32px;\n",
              "    }\n",
              "\n",
              "    .colab-df-convert:hover {\n",
              "      background-color: #E2EBFA;\n",
              "      box-shadow: 0px 1px 2px rgba(60, 64, 67, 0.3), 0px 1px 3px 1px rgba(60, 64, 67, 0.15);\n",
              "      fill: #174EA6;\n",
              "    }\n",
              "\n",
              "    [theme=dark] .colab-df-convert {\n",
              "      background-color: #3B4455;\n",
              "      fill: #D2E3FC;\n",
              "    }\n",
              "\n",
              "    [theme=dark] .colab-df-convert:hover {\n",
              "      background-color: #434B5C;\n",
              "      box-shadow: 0px 1px 3px 1px rgba(0, 0, 0, 0.15);\n",
              "      filter: drop-shadow(0px 1px 2px rgba(0, 0, 0, 0.3));\n",
              "      fill: #FFFFFF;\n",
              "    }\n",
              "  </style>\n",
              "\n",
              "      <script>\n",
              "        const buttonEl =\n",
              "          document.querySelector('#df-9fa0bd38-b78b-42c9-b967-3849d3fabeab button.colab-df-convert');\n",
              "        buttonEl.style.display =\n",
              "          google.colab.kernel.accessAllowed ? 'block' : 'none';\n",
              "\n",
              "        async function convertToInteractive(key) {\n",
              "          const element = document.querySelector('#df-9fa0bd38-b78b-42c9-b967-3849d3fabeab');\n",
              "          const dataTable =\n",
              "            await google.colab.kernel.invokeFunction('convertToInteractive',\n",
              "                                                     [key], {});\n",
              "          if (!dataTable) return;\n",
              "\n",
              "          const docLinkHtml = 'Like what you see? Visit the ' +\n",
              "            '<a target=\"_blank\" href=https://colab.research.google.com/notebooks/data_table.ipynb>data table notebook</a>'\n",
              "            + ' to learn more about interactive tables.';\n",
              "          element.innerHTML = '';\n",
              "          dataTable['output_type'] = 'display_data';\n",
              "          await google.colab.output.renderOutput(dataTable, element);\n",
              "          const docLink = document.createElement('div');\n",
              "          docLink.innerHTML = docLinkHtml;\n",
              "          element.appendChild(docLink);\n",
              "        }\n",
              "      </script>\n",
              "    </div>\n",
              "  </div>\n",
              "  "
            ]
          },
          "metadata": {},
          "execution_count": 10
        }
      ]
    },
    {
      "cell_type": "code",
      "source": [
        "daily.isnull().sum()"
      ],
      "metadata": {
        "colab": {
          "base_uri": "https://localhost:8080/"
        },
        "id": "ddPJvFIx4nBo",
        "outputId": "30741d8d-3517-4b39-8f1f-4ea4577a3c52"
      },
      "execution_count": 11,
      "outputs": [
        {
          "output_type": "execute_result",
          "data": {
            "text/plain": [
              "Date                           0\n",
              "Hydrogen_Demand_Actual_KG      0\n",
              "Hydrogen_Demand_Forecast_KG    0\n",
              "dtype: int64"
            ]
          },
          "metadata": {},
          "execution_count": 11
        }
      ]
    },
    {
      "cell_type": "code",
      "source": [
        "sns.scatterplot(data=daily, x=daily.iloc[:,1], y=daily.iloc[:,2])"
      ],
      "metadata": {
        "colab": {
          "base_uri": "https://localhost:8080/",
          "height": 297
        },
        "id": "MDi2vdMm4pEz",
        "outputId": "9a0dbc60-024b-47a9-c470-884e9f9e688f"
      },
      "execution_count": 12,
      "outputs": [
        {
          "output_type": "execute_result",
          "data": {
            "text/plain": [
              "<AxesSubplot:xlabel='Hydrogen_Demand_Actual_KG', ylabel='Hydrogen_Demand_Forecast_KG'>"
            ]
          },
          "metadata": {},
          "execution_count": 12
        },
        {
          "output_type": "display_data",
          "data": {
            "text/plain": [
              "<Figure size 432x288 with 1 Axes>"
            ],
            "image/png": "[encoded data removed]"
          },
          "metadata": {
            "needs_background": "light"
          }
        }
      ]
    },
    {
      "cell_type": "code",
      "source": [
        "# count the number of rows where actual hydrogen demand was supposedly zero\n",
        "daily[daily.iloc[:,1]==0].count()"
      ],
      "metadata": {
        "colab": {
          "base_uri": "https://localhost:8080/"
        },
        "id": "YtuLw5va42ga",
        "outputId": "b3d02c5a-36e8-4e32-81ef-f44ad365fa49"
      },
      "execution_count": 13,
      "outputs": [
        {
          "output_type": "execute_result",
          "data": {
            "text/plain": [
              "Date                           28\n",
              "Hydrogen_Demand_Actual_KG      28\n",
              "Hydrogen_Demand_Forecast_KG    28\n",
              "dtype: int64"
            ]
          },
          "metadata": {},
          "execution_count": 13
        }
      ]
    },
    {
      "cell_type": "code",
      "source": [
        "# for now, we will simply omit these rows\n",
        "daily = daily[daily['Hydrogen_Demand_Actual_KG'] != 0]\n",
        "daily = daily[daily['Hydrogen_Demand_Forecast_KG'] != 0]\n",
        "\n",
        "daily[daily.iloc[:,1]==0].count()"
      ],
      "metadata": {
        "colab": {
          "base_uri": "https://localhost:8080/"
        },
        "id": "w_Oiovn45IJa",
        "outputId": "ac3bdd76-6c62-41c4-a4df-d790ef9a11f3"
      },
      "execution_count": 14,
      "outputs": [
        {
          "output_type": "execute_result",
          "data": {
            "text/plain": [
              "Date                           0\n",
              "Hydrogen_Demand_Actual_KG      0\n",
              "Hydrogen_Demand_Forecast_KG    0\n",
              "dtype: int64"
            ]
          },
          "metadata": {},
          "execution_count": 14
        }
      ]
    },
    {
      "cell_type": "code",
      "source": [
        "sns.scatterplot(data=daily, x=daily.iloc[:,1], y=daily.iloc[:,2])"
      ],
      "metadata": {
        "colab": {
          "base_uri": "https://localhost:8080/",
          "height": 297
        },
        "id": "1Db8szsH5Tsj",
        "outputId": "fce8e077-4c85-417d-fdcc-68b927a39e30"
      },
      "execution_count": 15,
      "outputs": [
        {
          "output_type": "execute_result",
          "data": {
            "text/plain": [
              "<AxesSubplot:xlabel='Hydrogen_Demand_Actual_KG', ylabel='Hydrogen_Demand_Forecast_KG'>"
            ]
          },
          "metadata": {},
          "execution_count": 15
        },
        {
          "output_type": "display_data",
          "data": {
            "text/plain": [
              "<Figure size 432x288 with 1 Axes>"
            ],
            "image/png": "[encoded data removed]"
          },
          "metadata": {
            "needs_background": "light"
          }
        }
      ]
    },
    {
      "cell_type": "code",
      "source": [
        "weekly.isnull().sum()"
      ],
      "metadata": {
        "colab": {
          "base_uri": "https://localhost:8080/"
        },
        "id": "AkyGNGK859C9",
        "outputId": "17902b5a-19c8-461a-8419-5f060e2531d0"
      },
      "execution_count": 16,
      "outputs": [
        {
          "output_type": "execute_result",
          "data": {
            "text/plain": [
              "Week Commencing                0\n",
              "Hydrogen_Demand_Forecast_KG    0\n",
              "dtype: int64"
            ]
          },
          "metadata": {},
          "execution_count": 16
        }
      ]
    },
    {
      "cell_type": "code",
      "source": [
        "weekly.head()"
      ],
      "metadata": {
        "colab": {
          "base_uri": "https://localhost:8080/",
          "height": 206
        },
        "id": "kcW0U8Qc7wx4",
        "outputId": "9c3aee37-805a-40d5-d654-1b82f7154bba"
      },
      "execution_count": 17,
      "outputs": [
        {
          "output_type": "execute_result",
          "data": {
            "text/plain": [
              "  Week Commencing  Hydrogen_Demand_Forecast_KG\n",
              "0      03/01/2022                       123741\n",
              "1      10/01/2022                       120664\n",
              "2      17/01/2022                       121831\n",
              "3      24/01/2022                       122544\n",
              "4      31/01/2022                       122957"
            ],
            "text/html": [
              "\n",
              "  <div id=\"df-46fa44e4-6610-4761-a069-7777573451c2\">\n",
              "    <div class=\"colab-df-container\">\n",
              "      <div>\n",
              "<style scoped>\n",
              "    .dataframe tbody tr th:only-of-type {\n",
              "        vertical-align: middle;\n",
              "    }\n",
              "\n",
              "    .dataframe tbody tr th {\n",
              "        vertical-align: top;\n",
              "    }\n",
              "\n",
              "    .dataframe thead th {\n",
              "        text-align: right;\n",
              "    }\n",
              "</style>\n",
              "<table border=\"1\" class=\"dataframe\">\n",
              "  <thead>\n",
              "    <tr style=\"text-align: right;\">\n",
              "      <th></th>\n",
              "      <th>Week Commencing</th>\n",
              "      <th>Hydrogen_Demand_Forecast_KG</th>\n",
              "    </tr>\n",
              "  </thead>\n",
              "  <tbody>\n",
              "    <tr>\n",
              "      <th>0</th>\n",
              "      <td>03/01/2022</td>\n",
              "      <td>123741</td>\n",
              "    </tr>\n",
              "    <tr>\n",
              "      <th>1</th>\n",
              "      <td>10/01/2022</td>\n",
              "      <td>120664</td>\n",
              "    </tr>\n",
              "    <tr>\n",
              "      <th>2</th>\n",
              "      <td>17/01/2022</td>\n",
              "      <td>121831</td>\n",
              "    </tr>\n",
              "    <tr>\n",
              "      <th>3</th>\n",
              "      <td>24/01/2022</td>\n",
              "      <td>122544</td>\n",
              "    </tr>\n",
              "    <tr>\n",
              "      <th>4</th>\n",
              "      <td>31/01/2022</td>\n",
              "      <td>122957</td>\n",
              "    </tr>\n",
              "  </tbody>\n",
              "</table>\n",
              "</div>\n",
              "      <button class=\"colab-df-convert\" onclick=\"convertToInteractive('df-46fa44e4-6610-4761-a069-7777573451c2')\"\n",
              "              title=\"Convert this dataframe to an interactive table.\"\n",
              "              style=\"display:none;\">\n",
              "        \n",
              "  <svg xmlns=\"http://www.w3.org/2000/svg\" height=\"24px\"viewBox=\"0 0 24 24\"\n",
              "       width=\"24px\">\n",
              "    <path d=\"M0 0h24v24H0V0z\" fill=\"none\"/>\n",
              "    <path d=\"M18.56 5.44l.94 2.06.94-2.06 2.06-.94-2.06-.94-.94-2.06-.94 2.06-2.06.94zm-11 1L8.5 8.5l.94-2.06 2.06-.94-2.06-.94L8.5 2.5l-.94 2.06-2.06.94zm10 10l.94 2.06.94-2.06 2.06-.94-2.06-.94-.94-2.06-.94 2.06-2.06.94z\"/><path d=\"M17.41 7.96l-1.37-1.37c-.4-.4-.92-.59-1.43-.59-.52 0-1.04.2-1.43.59L10.3 9.45l-7.72 7.72c-.78.78-.78 2.05 0 2.83L4 21.41c.39.39.9.59 1.41.59.51 0 1.02-.2 1.41-.59l7.78-7.78 2.81-2.81c.8-.78.8-2.07 0-2.86zM5.41 20L4 18.59l7.72-7.72 1.47 1.35L5.41 20z\"/>\n",
              "  </svg>\n",
              "      </button>\n",
              "      \n",
              "  <style>\n",
              "    .colab-df-container {\n",
              "      display:flex;\n",
              "      flex-wrap:wrap;\n",
              "      gap: 12px;\n",
              "    }\n",
              "\n",
              "    .colab-df-convert {\n",
              "      background-color: #E8F0FE;\n",
              "      border: none;\n",
              "      border-radius: 50%;\n",
              "      cursor: pointer;\n",
              "      display: none;\n",
              "      fill: #1967D2;\n",
              "      height: 32px;\n",
              "      padding: 0 0 0 0;\n",
              "      width: 32px;\n",
              "    }\n",
              "\n",
              "    .colab-df-convert:hover {\n",
              "      background-color: #E2EBFA;\n",
              "      box-shadow: 0px 1px 2px rgba(60, 64, 67, 0.3), 0px 1px 3px 1px rgba(60, 64, 67, 0.15);\n",
              "      fill: #174EA6;\n",
              "    }\n",
              "\n",
              "    [theme=dark] .colab-df-convert {\n",
              "      background-color: #3B4455;\n",
              "      fill: #D2E3FC;\n",
              "    }\n",
              "\n",
              "    [theme=dark] .colab-df-convert:hover {\n",
              "      background-color: #434B5C;\n",
              "      box-shadow: 0px 1px 3px 1px rgba(0, 0, 0, 0.15);\n",
              "      filter: drop-shadow(0px 1px 2px rgba(0, 0, 0, 0.3));\n",
              "      fill: #FFFFFF;\n",
              "    }\n",
              "  </style>\n",
              "\n",
              "      <script>\n",
              "        const buttonEl =\n",
              "          document.querySelector('#df-46fa44e4-6610-4761-a069-7777573451c2 button.colab-df-convert');\n",
              "        buttonEl.style.display =\n",
              "          google.colab.kernel.accessAllowed ? 'block' : 'none';\n",
              "\n",
              "        async function convertToInteractive(key) {\n",
              "          const element = document.querySelector('#df-46fa44e4-6610-4761-a069-7777573451c2');\n",
              "          const dataTable =\n",
              "            await google.colab.kernel.invokeFunction('convertToInteractive',\n",
              "                                                     [key], {});\n",
              "          if (!dataTable) return;\n",
              "\n",
              "          const docLinkHtml = 'Like what you see? Visit the ' +\n",
              "            '<a target=\"_blank\" href=https://colab.research.google.com/notebooks/data_table.ipynb>data table notebook</a>'\n",
              "            + ' to learn more about interactive tables.';\n",
              "          element.innerHTML = '';\n",
              "          dataTable['output_type'] = 'display_data';\n",
              "          await google.colab.output.renderOutput(dataTable, element);\n",
              "          const docLink = document.createElement('div');\n",
              "          docLink.innerHTML = docLinkHtml;\n",
              "          element.appendChild(docLink);\n",
              "        }\n",
              "      </script>\n",
              "    </div>\n",
              "  </div>\n",
              "  "
            ]
          },
          "metadata": {},
          "execution_count": 17
        }
      ]
    },
    {
      "cell_type": "code",
      "source": [
        "weekly.count()"
      ],
      "metadata": {
        "id": "3ZRRPR4_788_",
        "colab": {
          "base_uri": "https://localhost:8080/"
        },
        "outputId": "5d3ebeea-8736-49e0-bf97-35c508109da8"
      },
      "execution_count": 18,
      "outputs": [
        {
          "output_type": "execute_result",
          "data": {
            "text/plain": [
              "Week Commencing                52\n",
              "Hydrogen_Demand_Forecast_KG    52\n",
              "dtype: int64"
            ]
          },
          "metadata": {},
          "execution_count": 18
        }
      ]
    },
    {
      "cell_type": "code",
      "source": [
        "monthly.count()"
      ],
      "metadata": {
        "colab": {
          "base_uri": "https://localhost:8080/"
        },
        "id": "VRfFSoZe8FPU",
        "outputId": "7b22f0ad-54da-44a7-86db-153611782604"
      },
      "execution_count": 19,
      "outputs": [
        {
          "output_type": "execute_result",
          "data": {
            "text/plain": [
              "Month                                12\n",
              "Hydrogen_Daily_Demand_Forecast_KG    12\n",
              "dtype: int64"
            ]
          },
          "metadata": {},
          "execution_count": 19
        }
      ]
    },
    {
      "cell_type": "code",
      "source": [
        "monthly.isnull().sum()"
      ],
      "metadata": {
        "colab": {
          "base_uri": "https://localhost:8080/"
        },
        "id": "g61AV35B7sLp",
        "outputId": "2635b489-d7fd-47d6-c5bf-d6d6a46e9a8a"
      },
      "execution_count": 20,
      "outputs": [
        {
          "output_type": "execute_result",
          "data": {
            "text/plain": [
              "Month                                0\n",
              "Hydrogen_Daily_Demand_Forecast_KG    0\n",
              "dtype: int64"
            ]
          },
          "metadata": {},
          "execution_count": 20
        }
      ]
    },
    {
      "cell_type": "code",
      "source": [],
      "metadata": {
        "id": "vYH1UJ127u63"
      },
      "execution_count": 20,
      "outputs": []
    }
  ]
}